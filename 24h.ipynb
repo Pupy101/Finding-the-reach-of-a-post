{
  "nbformat": 4,
  "nbformat_minor": 0,
  "metadata": {
    "accelerator": "GPU",
    "colab": {
      "name": "24h.ipynb",
      "provenance": [],
      "collapsed_sections": []
    },
    "kernelspec": {
      "display_name": "Python 3",
      "name": "python3"
    },
    "language_info": {
      "name": "python"
    },
    "widgets": {
      "application/vnd.jupyter.widget-state+json": {
        "f6637036733d4965b596d99d511c9095": {
          "model_module": "@jupyter-widgets/controls",
          "model_name": "HBoxModel",
          "state": {
            "_view_name": "HBoxView",
            "_dom_classes": [],
            "_model_name": "HBoxModel",
            "_view_module": "@jupyter-widgets/controls",
            "_model_module_version": "1.5.0",
            "_view_count": null,
            "_view_module_version": "1.5.0",
            "box_style": "",
            "layout": "IPY_MODEL_2f73175c5f944afbbd4bcd2dc871c93e",
            "_model_module": "@jupyter-widgets/controls",
            "children": [
              "IPY_MODEL_384f96ff41ff4fae915b062757fa0704",
              "IPY_MODEL_2d18cc388cf14d88a7deb25126fa54f0"
            ]
          }
        },
        "2f73175c5f944afbbd4bcd2dc871c93e": {
          "model_module": "@jupyter-widgets/base",
          "model_name": "LayoutModel",
          "state": {
            "_view_name": "LayoutView",
            "grid_template_rows": null,
            "right": null,
            "justify_content": null,
            "_view_module": "@jupyter-widgets/base",
            "overflow": null,
            "_model_module_version": "1.2.0",
            "_view_count": null,
            "flex_flow": null,
            "width": null,
            "min_width": null,
            "border": null,
            "align_items": null,
            "bottom": null,
            "_model_module": "@jupyter-widgets/base",
            "top": null,
            "grid_column": null,
            "overflow_y": null,
            "overflow_x": null,
            "grid_auto_flow": null,
            "grid_area": null,
            "grid_template_columns": null,
            "flex": null,
            "_model_name": "LayoutModel",
            "justify_items": null,
            "grid_row": null,
            "max_height": null,
            "align_content": null,
            "visibility": null,
            "align_self": null,
            "height": null,
            "min_height": null,
            "padding": null,
            "grid_auto_rows": null,
            "grid_gap": null,
            "max_width": null,
            "order": null,
            "_view_module_version": "1.2.0",
            "grid_template_areas": null,
            "object_position": null,
            "object_fit": null,
            "grid_auto_columns": null,
            "margin": null,
            "display": null,
            "left": null
          }
        },
        "384f96ff41ff4fae915b062757fa0704": {
          "model_module": "@jupyter-widgets/controls",
          "model_name": "FloatProgressModel",
          "state": {
            "_view_name": "ProgressView",
            "style": "IPY_MODEL_1a2d3e35c254411a9c8547e24d69e199",
            "_dom_classes": [],
            "description": "Downloading: 100%",
            "_model_name": "FloatProgressModel",
            "bar_style": "success",
            "max": 231508,
            "_view_module": "@jupyter-widgets/controls",
            "_model_module_version": "1.5.0",
            "value": 231508,
            "_view_count": null,
            "_view_module_version": "1.5.0",
            "orientation": "horizontal",
            "min": 0,
            "description_tooltip": null,
            "_model_module": "@jupyter-widgets/controls",
            "layout": "IPY_MODEL_cf41c2c5f10b437abc577b33b27cbdfe"
          }
        },
        "2d18cc388cf14d88a7deb25126fa54f0": {
          "model_module": "@jupyter-widgets/controls",
          "model_name": "HTMLModel",
          "state": {
            "_view_name": "HTMLView",
            "style": "IPY_MODEL_2abe8c0973b24a598013c086c5de6126",
            "_dom_classes": [],
            "description": "",
            "_model_name": "HTMLModel",
            "placeholder": "​",
            "_view_module": "@jupyter-widgets/controls",
            "_model_module_version": "1.5.0",
            "value": " 232k/232k [00:00&lt;00:00, 537kB/s]",
            "_view_count": null,
            "_view_module_version": "1.5.0",
            "description_tooltip": null,
            "_model_module": "@jupyter-widgets/controls",
            "layout": "IPY_MODEL_42f4105c8c044c6288fd57aed414c585"
          }
        },
        "1a2d3e35c254411a9c8547e24d69e199": {
          "model_module": "@jupyter-widgets/controls",
          "model_name": "ProgressStyleModel",
          "state": {
            "_view_name": "StyleView",
            "_model_name": "ProgressStyleModel",
            "description_width": "initial",
            "_view_module": "@jupyter-widgets/base",
            "_model_module_version": "1.5.0",
            "_view_count": null,
            "_view_module_version": "1.2.0",
            "bar_color": null,
            "_model_module": "@jupyter-widgets/controls"
          }
        },
        "cf41c2c5f10b437abc577b33b27cbdfe": {
          "model_module": "@jupyter-widgets/base",
          "model_name": "LayoutModel",
          "state": {
            "_view_name": "LayoutView",
            "grid_template_rows": null,
            "right": null,
            "justify_content": null,
            "_view_module": "@jupyter-widgets/base",
            "overflow": null,
            "_model_module_version": "1.2.0",
            "_view_count": null,
            "flex_flow": null,
            "width": null,
            "min_width": null,
            "border": null,
            "align_items": null,
            "bottom": null,
            "_model_module": "@jupyter-widgets/base",
            "top": null,
            "grid_column": null,
            "overflow_y": null,
            "overflow_x": null,
            "grid_auto_flow": null,
            "grid_area": null,
            "grid_template_columns": null,
            "flex": null,
            "_model_name": "LayoutModel",
            "justify_items": null,
            "grid_row": null,
            "max_height": null,
            "align_content": null,
            "visibility": null,
            "align_self": null,
            "height": null,
            "min_height": null,
            "padding": null,
            "grid_auto_rows": null,
            "grid_gap": null,
            "max_width": null,
            "order": null,
            "_view_module_version": "1.2.0",
            "grid_template_areas": null,
            "object_position": null,
            "object_fit": null,
            "grid_auto_columns": null,
            "margin": null,
            "display": null,
            "left": null
          }
        },
        "2abe8c0973b24a598013c086c5de6126": {
          "model_module": "@jupyter-widgets/controls",
          "model_name": "DescriptionStyleModel",
          "state": {
            "_view_name": "StyleView",
            "_model_name": "DescriptionStyleModel",
            "description_width": "",
            "_view_module": "@jupyter-widgets/base",
            "_model_module_version": "1.5.0",
            "_view_count": null,
            "_view_module_version": "1.2.0",
            "_model_module": "@jupyter-widgets/controls"
          }
        },
        "42f4105c8c044c6288fd57aed414c585": {
          "model_module": "@jupyter-widgets/base",
          "model_name": "LayoutModel",
          "state": {
            "_view_name": "LayoutView",
            "grid_template_rows": null,
            "right": null,
            "justify_content": null,
            "_view_module": "@jupyter-widgets/base",
            "overflow": null,
            "_model_module_version": "1.2.0",
            "_view_count": null,
            "flex_flow": null,
            "width": null,
            "min_width": null,
            "border": null,
            "align_items": null,
            "bottom": null,
            "_model_module": "@jupyter-widgets/base",
            "top": null,
            "grid_column": null,
            "overflow_y": null,
            "overflow_x": null,
            "grid_auto_flow": null,
            "grid_area": null,
            "grid_template_columns": null,
            "flex": null,
            "_model_name": "LayoutModel",
            "justify_items": null,
            "grid_row": null,
            "max_height": null,
            "align_content": null,
            "visibility": null,
            "align_self": null,
            "height": null,
            "min_height": null,
            "padding": null,
            "grid_auto_rows": null,
            "grid_gap": null,
            "max_width": null,
            "order": null,
            "_view_module_version": "1.2.0",
            "grid_template_areas": null,
            "object_position": null,
            "object_fit": null,
            "grid_auto_columns": null,
            "margin": null,
            "display": null,
            "left": null
          }
        },
        "0370afa0fe1f4b5fab56282d407fd79a": {
          "model_module": "@jupyter-widgets/controls",
          "model_name": "HBoxModel",
          "state": {
            "_view_name": "HBoxView",
            "_dom_classes": [],
            "_model_name": "HBoxModel",
            "_view_module": "@jupyter-widgets/controls",
            "_model_module_version": "1.5.0",
            "_view_count": null,
            "_view_module_version": "1.5.0",
            "box_style": "",
            "layout": "IPY_MODEL_82f869a8e69349a1a8a0c2b59bc62d01",
            "_model_module": "@jupyter-widgets/controls",
            "children": [
              "IPY_MODEL_f2f75936274e44d8a4f0a219533f9b8b",
              "IPY_MODEL_cf14d385e9e9409db4e57405efea24c6"
            ]
          }
        },
        "82f869a8e69349a1a8a0c2b59bc62d01": {
          "model_module": "@jupyter-widgets/base",
          "model_name": "LayoutModel",
          "state": {
            "_view_name": "LayoutView",
            "grid_template_rows": null,
            "right": null,
            "justify_content": null,
            "_view_module": "@jupyter-widgets/base",
            "overflow": null,
            "_model_module_version": "1.2.0",
            "_view_count": null,
            "flex_flow": null,
            "width": null,
            "min_width": null,
            "border": null,
            "align_items": null,
            "bottom": null,
            "_model_module": "@jupyter-widgets/base",
            "top": null,
            "grid_column": null,
            "overflow_y": null,
            "overflow_x": null,
            "grid_auto_flow": null,
            "grid_area": null,
            "grid_template_columns": null,
            "flex": null,
            "_model_name": "LayoutModel",
            "justify_items": null,
            "grid_row": null,
            "max_height": null,
            "align_content": null,
            "visibility": null,
            "align_self": null,
            "height": null,
            "min_height": null,
            "padding": null,
            "grid_auto_rows": null,
            "grid_gap": null,
            "max_width": null,
            "order": null,
            "_view_module_version": "1.2.0",
            "grid_template_areas": null,
            "object_position": null,
            "object_fit": null,
            "grid_auto_columns": null,
            "margin": null,
            "display": null,
            "left": null
          }
        },
        "f2f75936274e44d8a4f0a219533f9b8b": {
          "model_module": "@jupyter-widgets/controls",
          "model_name": "FloatProgressModel",
          "state": {
            "_view_name": "ProgressView",
            "style": "IPY_MODEL_a8a74970e3c04848a89b9b708178d102",
            "_dom_classes": [],
            "description": "Downloading: 100%",
            "_model_name": "FloatProgressModel",
            "bar_style": "success",
            "max": 28,
            "_view_module": "@jupyter-widgets/controls",
            "_model_module_version": "1.5.0",
            "value": 28,
            "_view_count": null,
            "_view_module_version": "1.5.0",
            "orientation": "horizontal",
            "min": 0,
            "description_tooltip": null,
            "_model_module": "@jupyter-widgets/controls",
            "layout": "IPY_MODEL_d65ecf8d76ef4b47918d638583d8de74"
          }
        },
        "cf14d385e9e9409db4e57405efea24c6": {
          "model_module": "@jupyter-widgets/controls",
          "model_name": "HTMLModel",
          "state": {
            "_view_name": "HTMLView",
            "style": "IPY_MODEL_9da8145551cb48ee87d06bd173eed1ea",
            "_dom_classes": [],
            "description": "",
            "_model_name": "HTMLModel",
            "placeholder": "​",
            "_view_module": "@jupyter-widgets/controls",
            "_model_module_version": "1.5.0",
            "value": " 28.0/28.0 [00:00&lt;00:00, 58.3B/s]",
            "_view_count": null,
            "_view_module_version": "1.5.0",
            "description_tooltip": null,
            "_model_module": "@jupyter-widgets/controls",
            "layout": "IPY_MODEL_f8500c7c88ff4ff8952a1d82e2b6776f"
          }
        },
        "a8a74970e3c04848a89b9b708178d102": {
          "model_module": "@jupyter-widgets/controls",
          "model_name": "ProgressStyleModel",
          "state": {
            "_view_name": "StyleView",
            "_model_name": "ProgressStyleModel",
            "description_width": "initial",
            "_view_module": "@jupyter-widgets/base",
            "_model_module_version": "1.5.0",
            "_view_count": null,
            "_view_module_version": "1.2.0",
            "bar_color": null,
            "_model_module": "@jupyter-widgets/controls"
          }
        },
        "d65ecf8d76ef4b47918d638583d8de74": {
          "model_module": "@jupyter-widgets/base",
          "model_name": "LayoutModel",
          "state": {
            "_view_name": "LayoutView",
            "grid_template_rows": null,
            "right": null,
            "justify_content": null,
            "_view_module": "@jupyter-widgets/base",
            "overflow": null,
            "_model_module_version": "1.2.0",
            "_view_count": null,
            "flex_flow": null,
            "width": null,
            "min_width": null,
            "border": null,
            "align_items": null,
            "bottom": null,
            "_model_module": "@jupyter-widgets/base",
            "top": null,
            "grid_column": null,
            "overflow_y": null,
            "overflow_x": null,
            "grid_auto_flow": null,
            "grid_area": null,
            "grid_template_columns": null,
            "flex": null,
            "_model_name": "LayoutModel",
            "justify_items": null,
            "grid_row": null,
            "max_height": null,
            "align_content": null,
            "visibility": null,
            "align_self": null,
            "height": null,
            "min_height": null,
            "padding": null,
            "grid_auto_rows": null,
            "grid_gap": null,
            "max_width": null,
            "order": null,
            "_view_module_version": "1.2.0",
            "grid_template_areas": null,
            "object_position": null,
            "object_fit": null,
            "grid_auto_columns": null,
            "margin": null,
            "display": null,
            "left": null
          }
        },
        "9da8145551cb48ee87d06bd173eed1ea": {
          "model_module": "@jupyter-widgets/controls",
          "model_name": "DescriptionStyleModel",
          "state": {
            "_view_name": "StyleView",
            "_model_name": "DescriptionStyleModel",
            "description_width": "",
            "_view_module": "@jupyter-widgets/base",
            "_model_module_version": "1.5.0",
            "_view_count": null,
            "_view_module_version": "1.2.0",
            "_model_module": "@jupyter-widgets/controls"
          }
        },
        "f8500c7c88ff4ff8952a1d82e2b6776f": {
          "model_module": "@jupyter-widgets/base",
          "model_name": "LayoutModel",
          "state": {
            "_view_name": "LayoutView",
            "grid_template_rows": null,
            "right": null,
            "justify_content": null,
            "_view_module": "@jupyter-widgets/base",
            "overflow": null,
            "_model_module_version": "1.2.0",
            "_view_count": null,
            "flex_flow": null,
            "width": null,
            "min_width": null,
            "border": null,
            "align_items": null,
            "bottom": null,
            "_model_module": "@jupyter-widgets/base",
            "top": null,
            "grid_column": null,
            "overflow_y": null,
            "overflow_x": null,
            "grid_auto_flow": null,
            "grid_area": null,
            "grid_template_columns": null,
            "flex": null,
            "_model_name": "LayoutModel",
            "justify_items": null,
            "grid_row": null,
            "max_height": null,
            "align_content": null,
            "visibility": null,
            "align_self": null,
            "height": null,
            "min_height": null,
            "padding": null,
            "grid_auto_rows": null,
            "grid_gap": null,
            "max_width": null,
            "order": null,
            "_view_module_version": "1.2.0",
            "grid_template_areas": null,
            "object_position": null,
            "object_fit": null,
            "grid_auto_columns": null,
            "margin": null,
            "display": null,
            "left": null
          }
        },
        "26a0ac01e76e4f21815b4abb4ae65c03": {
          "model_module": "@jupyter-widgets/controls",
          "model_name": "HBoxModel",
          "state": {
            "_view_name": "HBoxView",
            "_dom_classes": [],
            "_model_name": "HBoxModel",
            "_view_module": "@jupyter-widgets/controls",
            "_model_module_version": "1.5.0",
            "_view_count": null,
            "_view_module_version": "1.5.0",
            "box_style": "",
            "layout": "IPY_MODEL_687207818c2649858124aeed2877b3bc",
            "_model_module": "@jupyter-widgets/controls",
            "children": [
              "IPY_MODEL_f5cad38ce6904ee28a2e8eae8edd35ce",
              "IPY_MODEL_057c187983d441d883df40f2ca69bc04"
            ]
          }
        },
        "687207818c2649858124aeed2877b3bc": {
          "model_module": "@jupyter-widgets/base",
          "model_name": "LayoutModel",
          "state": {
            "_view_name": "LayoutView",
            "grid_template_rows": null,
            "right": null,
            "justify_content": null,
            "_view_module": "@jupyter-widgets/base",
            "overflow": null,
            "_model_module_version": "1.2.0",
            "_view_count": null,
            "flex_flow": null,
            "width": null,
            "min_width": null,
            "border": null,
            "align_items": null,
            "bottom": null,
            "_model_module": "@jupyter-widgets/base",
            "top": null,
            "grid_column": null,
            "overflow_y": null,
            "overflow_x": null,
            "grid_auto_flow": null,
            "grid_area": null,
            "grid_template_columns": null,
            "flex": null,
            "_model_name": "LayoutModel",
            "justify_items": null,
            "grid_row": null,
            "max_height": null,
            "align_content": null,
            "visibility": null,
            "align_self": null,
            "height": null,
            "min_height": null,
            "padding": null,
            "grid_auto_rows": null,
            "grid_gap": null,
            "max_width": null,
            "order": null,
            "_view_module_version": "1.2.0",
            "grid_template_areas": null,
            "object_position": null,
            "object_fit": null,
            "grid_auto_columns": null,
            "margin": null,
            "display": null,
            "left": null
          }
        },
        "f5cad38ce6904ee28a2e8eae8edd35ce": {
          "model_module": "@jupyter-widgets/controls",
          "model_name": "FloatProgressModel",
          "state": {
            "_view_name": "ProgressView",
            "style": "IPY_MODEL_d58c1dc4cff74f2b810b63417bc106c4",
            "_dom_classes": [],
            "description": "Downloading: 100%",
            "_model_name": "FloatProgressModel",
            "bar_style": "success",
            "max": 466062,
            "_view_module": "@jupyter-widgets/controls",
            "_model_module_version": "1.5.0",
            "value": 466062,
            "_view_count": null,
            "_view_module_version": "1.5.0",
            "orientation": "horizontal",
            "min": 0,
            "description_tooltip": null,
            "_model_module": "@jupyter-widgets/controls",
            "layout": "IPY_MODEL_1bea4bf9b74748cebbe22cbae79a1ae0"
          }
        },
        "057c187983d441d883df40f2ca69bc04": {
          "model_module": "@jupyter-widgets/controls",
          "model_name": "HTMLModel",
          "state": {
            "_view_name": "HTMLView",
            "style": "IPY_MODEL_574938f06c904c768f119f53d439f1ea",
            "_dom_classes": [],
            "description": "",
            "_model_name": "HTMLModel",
            "placeholder": "​",
            "_view_module": "@jupyter-widgets/controls",
            "_model_module_version": "1.5.0",
            "value": " 466k/466k [00:00&lt;00:00, 1.30MB/s]",
            "_view_count": null,
            "_view_module_version": "1.5.0",
            "description_tooltip": null,
            "_model_module": "@jupyter-widgets/controls",
            "layout": "IPY_MODEL_be6751aef2db4bb4aa54d6c75c1a9552"
          }
        },
        "d58c1dc4cff74f2b810b63417bc106c4": {
          "model_module": "@jupyter-widgets/controls",
          "model_name": "ProgressStyleModel",
          "state": {
            "_view_name": "StyleView",
            "_model_name": "ProgressStyleModel",
            "description_width": "initial",
            "_view_module": "@jupyter-widgets/base",
            "_model_module_version": "1.5.0",
            "_view_count": null,
            "_view_module_version": "1.2.0",
            "bar_color": null,
            "_model_module": "@jupyter-widgets/controls"
          }
        },
        "1bea4bf9b74748cebbe22cbae79a1ae0": {
          "model_module": "@jupyter-widgets/base",
          "model_name": "LayoutModel",
          "state": {
            "_view_name": "LayoutView",
            "grid_template_rows": null,
            "right": null,
            "justify_content": null,
            "_view_module": "@jupyter-widgets/base",
            "overflow": null,
            "_model_module_version": "1.2.0",
            "_view_count": null,
            "flex_flow": null,
            "width": null,
            "min_width": null,
            "border": null,
            "align_items": null,
            "bottom": null,
            "_model_module": "@jupyter-widgets/base",
            "top": null,
            "grid_column": null,
            "overflow_y": null,
            "overflow_x": null,
            "grid_auto_flow": null,
            "grid_area": null,
            "grid_template_columns": null,
            "flex": null,
            "_model_name": "LayoutModel",
            "justify_items": null,
            "grid_row": null,
            "max_height": null,
            "align_content": null,
            "visibility": null,
            "align_self": null,
            "height": null,
            "min_height": null,
            "padding": null,
            "grid_auto_rows": null,
            "grid_gap": null,
            "max_width": null,
            "order": null,
            "_view_module_version": "1.2.0",
            "grid_template_areas": null,
            "object_position": null,
            "object_fit": null,
            "grid_auto_columns": null,
            "margin": null,
            "display": null,
            "left": null
          }
        },
        "574938f06c904c768f119f53d439f1ea": {
          "model_module": "@jupyter-widgets/controls",
          "model_name": "DescriptionStyleModel",
          "state": {
            "_view_name": "StyleView",
            "_model_name": "DescriptionStyleModel",
            "description_width": "",
            "_view_module": "@jupyter-widgets/base",
            "_model_module_version": "1.5.0",
            "_view_count": null,
            "_view_module_version": "1.2.0",
            "_model_module": "@jupyter-widgets/controls"
          }
        },
        "be6751aef2db4bb4aa54d6c75c1a9552": {
          "model_module": "@jupyter-widgets/base",
          "model_name": "LayoutModel",
          "state": {
            "_view_name": "LayoutView",
            "grid_template_rows": null,
            "right": null,
            "justify_content": null,
            "_view_module": "@jupyter-widgets/base",
            "overflow": null,
            "_model_module_version": "1.2.0",
            "_view_count": null,
            "flex_flow": null,
            "width": null,
            "min_width": null,
            "border": null,
            "align_items": null,
            "bottom": null,
            "_model_module": "@jupyter-widgets/base",
            "top": null,
            "grid_column": null,
            "overflow_y": null,
            "overflow_x": null,
            "grid_auto_flow": null,
            "grid_area": null,
            "grid_template_columns": null,
            "flex": null,
            "_model_name": "LayoutModel",
            "justify_items": null,
            "grid_row": null,
            "max_height": null,
            "align_content": null,
            "visibility": null,
            "align_self": null,
            "height": null,
            "min_height": null,
            "padding": null,
            "grid_auto_rows": null,
            "grid_gap": null,
            "max_width": null,
            "order": null,
            "_view_module_version": "1.2.0",
            "grid_template_areas": null,
            "object_position": null,
            "object_fit": null,
            "grid_auto_columns": null,
            "margin": null,
            "display": null,
            "left": null
          }
        },
        "aa987183464d4852bc69120687f5c67c": {
          "model_module": "@jupyter-widgets/controls",
          "model_name": "HBoxModel",
          "state": {
            "_view_name": "HBoxView",
            "_dom_classes": [],
            "_model_name": "HBoxModel",
            "_view_module": "@jupyter-widgets/controls",
            "_model_module_version": "1.5.0",
            "_view_count": null,
            "_view_module_version": "1.5.0",
            "box_style": "",
            "layout": "IPY_MODEL_0799fec885904f1b84e8b94bbf7a2200",
            "_model_module": "@jupyter-widgets/controls",
            "children": [
              "IPY_MODEL_b3e6fea9553f406db5c156c2f6e69695",
              "IPY_MODEL_01a673ae2a8f4cc5beb57691aed86c59"
            ]
          }
        },
        "0799fec885904f1b84e8b94bbf7a2200": {
          "model_module": "@jupyter-widgets/base",
          "model_name": "LayoutModel",
          "state": {
            "_view_name": "LayoutView",
            "grid_template_rows": null,
            "right": null,
            "justify_content": null,
            "_view_module": "@jupyter-widgets/base",
            "overflow": null,
            "_model_module_version": "1.2.0",
            "_view_count": null,
            "flex_flow": null,
            "width": null,
            "min_width": null,
            "border": null,
            "align_items": null,
            "bottom": null,
            "_model_module": "@jupyter-widgets/base",
            "top": null,
            "grid_column": null,
            "overflow_y": null,
            "overflow_x": null,
            "grid_auto_flow": null,
            "grid_area": null,
            "grid_template_columns": null,
            "flex": null,
            "_model_name": "LayoutModel",
            "justify_items": null,
            "grid_row": null,
            "max_height": null,
            "align_content": null,
            "visibility": null,
            "align_self": null,
            "height": null,
            "min_height": null,
            "padding": null,
            "grid_auto_rows": null,
            "grid_gap": null,
            "max_width": null,
            "order": null,
            "_view_module_version": "1.2.0",
            "grid_template_areas": null,
            "object_position": null,
            "object_fit": null,
            "grid_auto_columns": null,
            "margin": null,
            "display": null,
            "left": null
          }
        },
        "b3e6fea9553f406db5c156c2f6e69695": {
          "model_module": "@jupyter-widgets/controls",
          "model_name": "FloatProgressModel",
          "state": {
            "_view_name": "ProgressView",
            "style": "IPY_MODEL_056b8a3a8df946d780d92a6cc7f0b7aa",
            "_dom_classes": [],
            "description": "Downloading: 100%",
            "_model_name": "FloatProgressModel",
            "bar_style": "success",
            "max": 442,
            "_view_module": "@jupyter-widgets/controls",
            "_model_module_version": "1.5.0",
            "value": 442,
            "_view_count": null,
            "_view_module_version": "1.5.0",
            "orientation": "horizontal",
            "min": 0,
            "description_tooltip": null,
            "_model_module": "@jupyter-widgets/controls",
            "layout": "IPY_MODEL_03fa8c669bbe4226b8ddd41bfc1d258c"
          }
        },
        "01a673ae2a8f4cc5beb57691aed86c59": {
          "model_module": "@jupyter-widgets/controls",
          "model_name": "HTMLModel",
          "state": {
            "_view_name": "HTMLView",
            "style": "IPY_MODEL_d4718547fabd433681080cb237aba587",
            "_dom_classes": [],
            "description": "",
            "_model_name": "HTMLModel",
            "placeholder": "​",
            "_view_module": "@jupyter-widgets/controls",
            "_model_module_version": "1.5.0",
            "value": " 442/442 [00:00&lt;00:00, 927B/s]",
            "_view_count": null,
            "_view_module_version": "1.5.0",
            "description_tooltip": null,
            "_model_module": "@jupyter-widgets/controls",
            "layout": "IPY_MODEL_31f6391c4f554a8c9a42f32f048c6cce"
          }
        },
        "056b8a3a8df946d780d92a6cc7f0b7aa": {
          "model_module": "@jupyter-widgets/controls",
          "model_name": "ProgressStyleModel",
          "state": {
            "_view_name": "StyleView",
            "_model_name": "ProgressStyleModel",
            "description_width": "initial",
            "_view_module": "@jupyter-widgets/base",
            "_model_module_version": "1.5.0",
            "_view_count": null,
            "_view_module_version": "1.2.0",
            "bar_color": null,
            "_model_module": "@jupyter-widgets/controls"
          }
        },
        "03fa8c669bbe4226b8ddd41bfc1d258c": {
          "model_module": "@jupyter-widgets/base",
          "model_name": "LayoutModel",
          "state": {
            "_view_name": "LayoutView",
            "grid_template_rows": null,
            "right": null,
            "justify_content": null,
            "_view_module": "@jupyter-widgets/base",
            "overflow": null,
            "_model_module_version": "1.2.0",
            "_view_count": null,
            "flex_flow": null,
            "width": null,
            "min_width": null,
            "border": null,
            "align_items": null,
            "bottom": null,
            "_model_module": "@jupyter-widgets/base",
            "top": null,
            "grid_column": null,
            "overflow_y": null,
            "overflow_x": null,
            "grid_auto_flow": null,
            "grid_area": null,
            "grid_template_columns": null,
            "flex": null,
            "_model_name": "LayoutModel",
            "justify_items": null,
            "grid_row": null,
            "max_height": null,
            "align_content": null,
            "visibility": null,
            "align_self": null,
            "height": null,
            "min_height": null,
            "padding": null,
            "grid_auto_rows": null,
            "grid_gap": null,
            "max_width": null,
            "order": null,
            "_view_module_version": "1.2.0",
            "grid_template_areas": null,
            "object_position": null,
            "object_fit": null,
            "grid_auto_columns": null,
            "margin": null,
            "display": null,
            "left": null
          }
        },
        "d4718547fabd433681080cb237aba587": {
          "model_module": "@jupyter-widgets/controls",
          "model_name": "DescriptionStyleModel",
          "state": {
            "_view_name": "StyleView",
            "_model_name": "DescriptionStyleModel",
            "description_width": "",
            "_view_module": "@jupyter-widgets/base",
            "_model_module_version": "1.5.0",
            "_view_count": null,
            "_view_module_version": "1.2.0",
            "_model_module": "@jupyter-widgets/controls"
          }
        },
        "31f6391c4f554a8c9a42f32f048c6cce": {
          "model_module": "@jupyter-widgets/base",
          "model_name": "LayoutModel",
          "state": {
            "_view_name": "LayoutView",
            "grid_template_rows": null,
            "right": null,
            "justify_content": null,
            "_view_module": "@jupyter-widgets/base",
            "overflow": null,
            "_model_module_version": "1.2.0",
            "_view_count": null,
            "flex_flow": null,
            "width": null,
            "min_width": null,
            "border": null,
            "align_items": null,
            "bottom": null,
            "_model_module": "@jupyter-widgets/base",
            "top": null,
            "grid_column": null,
            "overflow_y": null,
            "overflow_x": null,
            "grid_auto_flow": null,
            "grid_area": null,
            "grid_template_columns": null,
            "flex": null,
            "_model_name": "LayoutModel",
            "justify_items": null,
            "grid_row": null,
            "max_height": null,
            "align_content": null,
            "visibility": null,
            "align_self": null,
            "height": null,
            "min_height": null,
            "padding": null,
            "grid_auto_rows": null,
            "grid_gap": null,
            "max_width": null,
            "order": null,
            "_view_module_version": "1.2.0",
            "grid_template_areas": null,
            "object_position": null,
            "object_fit": null,
            "grid_auto_columns": null,
            "margin": null,
            "display": null,
            "left": null
          }
        },
        "ed071661187c480d8ba56e47c27f6e91": {
          "model_module": "@jupyter-widgets/controls",
          "model_name": "HBoxModel",
          "state": {
            "_view_name": "HBoxView",
            "_dom_classes": [],
            "_model_name": "HBoxModel",
            "_view_module": "@jupyter-widgets/controls",
            "_model_module_version": "1.5.0",
            "_view_count": null,
            "_view_module_version": "1.5.0",
            "box_style": "",
            "layout": "IPY_MODEL_e79cb44b2109449bb720435faa6bd9e2",
            "_model_module": "@jupyter-widgets/controls",
            "children": [
              "IPY_MODEL_b744d7a476334aceadd771f5bed415a3",
              "IPY_MODEL_5172d1c7074e448397655ebc664cc85b"
            ]
          }
        },
        "e79cb44b2109449bb720435faa6bd9e2": {
          "model_module": "@jupyter-widgets/base",
          "model_name": "LayoutModel",
          "state": {
            "_view_name": "LayoutView",
            "grid_template_rows": null,
            "right": null,
            "justify_content": null,
            "_view_module": "@jupyter-widgets/base",
            "overflow": null,
            "_model_module_version": "1.2.0",
            "_view_count": null,
            "flex_flow": null,
            "width": null,
            "min_width": null,
            "border": null,
            "align_items": null,
            "bottom": null,
            "_model_module": "@jupyter-widgets/base",
            "top": null,
            "grid_column": null,
            "overflow_y": null,
            "overflow_x": null,
            "grid_auto_flow": null,
            "grid_area": null,
            "grid_template_columns": null,
            "flex": null,
            "_model_name": "LayoutModel",
            "justify_items": null,
            "grid_row": null,
            "max_height": null,
            "align_content": null,
            "visibility": null,
            "align_self": null,
            "height": null,
            "min_height": null,
            "padding": null,
            "grid_auto_rows": null,
            "grid_gap": null,
            "max_width": null,
            "order": null,
            "_view_module_version": "1.2.0",
            "grid_template_areas": null,
            "object_position": null,
            "object_fit": null,
            "grid_auto_columns": null,
            "margin": null,
            "display": null,
            "left": null
          }
        },
        "b744d7a476334aceadd771f5bed415a3": {
          "model_module": "@jupyter-widgets/controls",
          "model_name": "FloatProgressModel",
          "state": {
            "_view_name": "ProgressView",
            "style": "IPY_MODEL_4cea087cb9c241e69a16071feb1985c8",
            "_dom_classes": [],
            "description": "Downloading: 100%",
            "_model_name": "FloatProgressModel",
            "bar_style": "success",
            "max": 267967963,
            "_view_module": "@jupyter-widgets/controls",
            "_model_module_version": "1.5.0",
            "value": 267967963,
            "_view_count": null,
            "_view_module_version": "1.5.0",
            "orientation": "horizontal",
            "min": 0,
            "description_tooltip": null,
            "_model_module": "@jupyter-widgets/controls",
            "layout": "IPY_MODEL_8b56adf36ae041379efeac8c70ad54bb"
          }
        },
        "5172d1c7074e448397655ebc664cc85b": {
          "model_module": "@jupyter-widgets/controls",
          "model_name": "HTMLModel",
          "state": {
            "_view_name": "HTMLView",
            "style": "IPY_MODEL_614b9c988cc94888a6a1e59b4ac80ee2",
            "_dom_classes": [],
            "description": "",
            "_model_name": "HTMLModel",
            "placeholder": "​",
            "_view_module": "@jupyter-widgets/controls",
            "_model_module_version": "1.5.0",
            "value": " 268M/268M [00:15&lt;00:00, 17.8MB/s]",
            "_view_count": null,
            "_view_module_version": "1.5.0",
            "description_tooltip": null,
            "_model_module": "@jupyter-widgets/controls",
            "layout": "IPY_MODEL_13518cf1dbb44648a56b61c8b50c06c3"
          }
        },
        "4cea087cb9c241e69a16071feb1985c8": {
          "model_module": "@jupyter-widgets/controls",
          "model_name": "ProgressStyleModel",
          "state": {
            "_view_name": "StyleView",
            "_model_name": "ProgressStyleModel",
            "description_width": "initial",
            "_view_module": "@jupyter-widgets/base",
            "_model_module_version": "1.5.0",
            "_view_count": null,
            "_view_module_version": "1.2.0",
            "bar_color": null,
            "_model_module": "@jupyter-widgets/controls"
          }
        },
        "8b56adf36ae041379efeac8c70ad54bb": {
          "model_module": "@jupyter-widgets/base",
          "model_name": "LayoutModel",
          "state": {
            "_view_name": "LayoutView",
            "grid_template_rows": null,
            "right": null,
            "justify_content": null,
            "_view_module": "@jupyter-widgets/base",
            "overflow": null,
            "_model_module_version": "1.2.0",
            "_view_count": null,
            "flex_flow": null,
            "width": null,
            "min_width": null,
            "border": null,
            "align_items": null,
            "bottom": null,
            "_model_module": "@jupyter-widgets/base",
            "top": null,
            "grid_column": null,
            "overflow_y": null,
            "overflow_x": null,
            "grid_auto_flow": null,
            "grid_area": null,
            "grid_template_columns": null,
            "flex": null,
            "_model_name": "LayoutModel",
            "justify_items": null,
            "grid_row": null,
            "max_height": null,
            "align_content": null,
            "visibility": null,
            "align_self": null,
            "height": null,
            "min_height": null,
            "padding": null,
            "grid_auto_rows": null,
            "grid_gap": null,
            "max_width": null,
            "order": null,
            "_view_module_version": "1.2.0",
            "grid_template_areas": null,
            "object_position": null,
            "object_fit": null,
            "grid_auto_columns": null,
            "margin": null,
            "display": null,
            "left": null
          }
        },
        "614b9c988cc94888a6a1e59b4ac80ee2": {
          "model_module": "@jupyter-widgets/controls",
          "model_name": "DescriptionStyleModel",
          "state": {
            "_view_name": "StyleView",
            "_model_name": "DescriptionStyleModel",
            "description_width": "",
            "_view_module": "@jupyter-widgets/base",
            "_model_module_version": "1.5.0",
            "_view_count": null,
            "_view_module_version": "1.2.0",
            "_model_module": "@jupyter-widgets/controls"
          }
        },
        "13518cf1dbb44648a56b61c8b50c06c3": {
          "model_module": "@jupyter-widgets/base",
          "model_name": "LayoutModel",
          "state": {
            "_view_name": "LayoutView",
            "grid_template_rows": null,
            "right": null,
            "justify_content": null,
            "_view_module": "@jupyter-widgets/base",
            "overflow": null,
            "_model_module_version": "1.2.0",
            "_view_count": null,
            "flex_flow": null,
            "width": null,
            "min_width": null,
            "border": null,
            "align_items": null,
            "bottom": null,
            "_model_module": "@jupyter-widgets/base",
            "top": null,
            "grid_column": null,
            "overflow_y": null,
            "overflow_x": null,
            "grid_auto_flow": null,
            "grid_area": null,
            "grid_template_columns": null,
            "flex": null,
            "_model_name": "LayoutModel",
            "justify_items": null,
            "grid_row": null,
            "max_height": null,
            "align_content": null,
            "visibility": null,
            "align_self": null,
            "height": null,
            "min_height": null,
            "padding": null,
            "grid_auto_rows": null,
            "grid_gap": null,
            "max_width": null,
            "order": null,
            "_view_module_version": "1.2.0",
            "grid_template_areas": null,
            "object_position": null,
            "object_fit": null,
            "grid_auto_columns": null,
            "margin": null,
            "display": null,
            "left": null
          }
        }
      }
    }
  },
  "cells": [
    {
      "cell_type": "markdown",
      "metadata": {
        "id": "b0NBHgi-ULMS"
      },
      "source": [
        "### Загрузка библиотек, весов для word2vec и импорты"
      ]
    },
    {
      "cell_type": "code",
      "metadata": {
        "id": "BSeCTVBZMt2m",
        "colab": {
          "base_uri": "https://localhost:8080/"
        },
        "outputId": "16515837-e1d8-4978-8f07-563fac8e0bd2"
      },
      "source": [
        "!pip install -q transformers"
      ],
      "execution_count": 2,
      "outputs": [
        {
          "output_type": "stream",
          "text": [
            "\u001b[K     |████████████████████████████████| 2.1MB 8.4MB/s \n",
            "\u001b[K     |████████████████████████████████| 901kB 52.7MB/s \n",
            "\u001b[K     |████████████████████████████████| 3.3MB 43.7MB/s \n",
            "\u001b[?25h"
          ],
          "name": "stdout"
        }
      ]
    },
    {
      "cell_type": "code",
      "metadata": {
        "id": "8j5ayVQqv0_j"
      },
      "source": [
        "import re\n",
        "import os\n",
        "import json\n",
        "import shutil\n",
        "os.environ['CUDA_LAUNCH_BLOCKING'] = '1'\n",
        "\n",
        "import torch\n",
        "import numpy as np\n",
        "import pandas as pd\n",
        "import matplotlib.pyplot as plt\n",
        "import seaborn as sns\n",
        "\n",
        "from torch import nn, optim\n",
        "from sklearn.preprocessing import OneHotEncoder, StandardScaler, OneHotEncoder\n",
        "from sklearn.model_selection import train_test_split\n",
        "from torch.utils.data import Dataset, Sampler, DataLoader\n",
        "from transformers import DistilBertModel, DistilBertTokenizer\n",
        "sns.set_style('dark')"
      ],
      "execution_count": 3,
      "outputs": []
    },
    {
      "cell_type": "code",
      "metadata": {
        "id": "_Rx-Kio1UqKi"
      },
      "source": [
        "import warnings\n",
        "warnings.simplefilter(\"ignore\")"
      ],
      "execution_count": 4,
      "outputs": []
    },
    {
      "cell_type": "code",
      "metadata": {
        "colab": {
          "base_uri": "https://localhost:8080/",
          "height": 35
        },
        "id": "bdA-H22kwBfO",
        "outputId": "bc74b413-c0e1-4215-f2df-eef4cc46d383"
      },
      "source": [
        "shutil.copy('.//drive//MyDrive//Hack24//hackathon-spring-2021.csv.gz', './/')"
      ],
      "execution_count": 5,
      "outputs": [
        {
          "output_type": "execute_result",
          "data": {
            "application/vnd.google.colaboratory.intrinsic+json": {
              "type": "string"
            },
            "text/plain": [
              "'.//hackathon-spring-2021.csv.gz'"
            ]
          },
          "metadata": {
            "tags": []
          },
          "execution_count": 5
        }
      ]
    },
    {
      "cell_type": "code",
      "metadata": {
        "id": "t8u2T48-wjHo"
      },
      "source": [
        "!gzip -d hackathon-spring-2021.csv.gz"
      ],
      "execution_count": 6,
      "outputs": []
    },
    {
      "cell_type": "markdown",
      "metadata": {
        "id": "4yoIkdlnUaDK"
      },
      "source": [
        "### Первый взгляд на данные"
      ]
    },
    {
      "cell_type": "code",
      "metadata": {
        "id": "q-UOZVgXwYsE"
      },
      "source": [
        "data_frame = pd.read_csv('.//hackathon-spring-2021.csv')"
      ],
      "execution_count": 7,
      "outputs": []
    },
    {
      "cell_type": "code",
      "metadata": {
        "id": "PJKb4l-yvQmI"
      },
      "source": [
        "data_frame = pd.concat((data_frame.iloc[:, 1:], pd.get_dummies(data_frame['social_type'])), axis=1)"
      ],
      "execution_count": 8,
      "outputs": []
    },
    {
      "cell_type": "code",
      "metadata": {
        "colab": {
          "base_uri": "https://localhost:8080/",
          "height": 373
        },
        "id": "LMpXxF4dURH_",
        "outputId": "1466980a-eeb8-4a38-9c27-7431f459d063"
      },
      "source": [
        "data_frame.head()"
      ],
      "execution_count": 9,
      "outputs": [
        {
          "output_type": "execute_result",
          "data": {
            "text/html": [
              "<div>\n",
              "<style scoped>\n",
              "    .dataframe tbody tr th:only-of-type {\n",
              "        vertical-align: middle;\n",
              "    }\n",
              "\n",
              "    .dataframe tbody tr th {\n",
              "        vertical-align: top;\n",
              "    }\n",
              "\n",
              "    .dataframe thead th {\n",
              "        text-align: right;\n",
              "    }\n",
              "</style>\n",
              "<table border=\"1\" class=\"dataframe\">\n",
              "  <thead>\n",
              "    <tr style=\"text-align: right;\">\n",
              "      <th></th>\n",
              "      <th>text</th>\n",
              "      <th>has_images</th>\n",
              "      <th>has_videos</th>\n",
              "      <th>url</th>\n",
              "      <th>likes</th>\n",
              "      <th>comments</th>\n",
              "      <th>reposts</th>\n",
              "      <th>views</th>\n",
              "      <th>is_repost</th>\n",
              "      <th>created_date</th>\n",
              "      <th>updated_date</th>\n",
              "      <th>version</th>\n",
              "      <th>author_id</th>\n",
              "      <th>id</th>\n",
              "      <th>author_subscribers</th>\n",
              "      <th>odnoklassniki</th>\n",
              "      <th>telegram</th>\n",
              "      <th>vk</th>\n",
              "    </tr>\n",
              "  </thead>\n",
              "  <tbody>\n",
              "    <tr>\n",
              "      <th>0</th>\n",
              "      <td>&lt;div data-tid=\"152651712709506\" data-l=\"ti,152...</td>\n",
              "      <td>1</td>\n",
              "      <td>0</td>\n",
              "      <td>https://ok.ru/group/42559086985346/topic/15265...</td>\n",
              "      <td>20</td>\n",
              "      <td>2</td>\n",
              "      <td>0</td>\n",
              "      <td>-1</td>\n",
              "      <td>0</td>\n",
              "      <td>2021-04-07 06:30:00</td>\n",
              "      <td>2021-04-07 16:40:11</td>\n",
              "      <td>2</td>\n",
              "      <td>42559086985346</td>\n",
              "      <td>group/42559086985346/topic/152651712709506</td>\n",
              "      <td>682150</td>\n",
              "      <td>1</td>\n",
              "      <td>0</td>\n",
              "      <td>0</td>\n",
              "    </tr>\n",
              "    <tr>\n",
              "      <th>1</th>\n",
              "      <td>&lt;div data-tid=\"152651712709506\" data-l=\"ti,152...</td>\n",
              "      <td>1</td>\n",
              "      <td>0</td>\n",
              "      <td>https://ok.ru/group/42559086985346/topic/15265...</td>\n",
              "      <td>23</td>\n",
              "      <td>3</td>\n",
              "      <td>0</td>\n",
              "      <td>-1</td>\n",
              "      <td>0</td>\n",
              "      <td>2021-04-07 06:30:00</td>\n",
              "      <td>2021-04-08 15:07:33</td>\n",
              "      <td>4</td>\n",
              "      <td>42559086985346</td>\n",
              "      <td>group/42559086985346/topic/152651712709506</td>\n",
              "      <td>682138</td>\n",
              "      <td>1</td>\n",
              "      <td>0</td>\n",
              "      <td>0</td>\n",
              "    </tr>\n",
              "    <tr>\n",
              "      <th>2</th>\n",
              "      <td>&lt;div data-tid=\"152651712709506\" data-l=\"ti,152...</td>\n",
              "      <td>1</td>\n",
              "      <td>0</td>\n",
              "      <td>https://ok.ru/group/42559086985346/topic/15265...</td>\n",
              "      <td>23</td>\n",
              "      <td>3</td>\n",
              "      <td>0</td>\n",
              "      <td>-1</td>\n",
              "      <td>0</td>\n",
              "      <td>2021-04-06 21:00:00</td>\n",
              "      <td>2021-04-09 05:17:45</td>\n",
              "      <td>6</td>\n",
              "      <td>42559086985346</td>\n",
              "      <td>group/42559086985346/topic/152651712709506</td>\n",
              "      <td>682137</td>\n",
              "      <td>1</td>\n",
              "      <td>0</td>\n",
              "      <td>0</td>\n",
              "    </tr>\n",
              "    <tr>\n",
              "      <th>3</th>\n",
              "      <td>&lt;div data-tid=\"152651712709506\" data-l=\"ti,152...</td>\n",
              "      <td>1</td>\n",
              "      <td>0</td>\n",
              "      <td>https://ok.ru/group/42559086985346/topic/15265...</td>\n",
              "      <td>23</td>\n",
              "      <td>3</td>\n",
              "      <td>0</td>\n",
              "      <td>-1</td>\n",
              "      <td>0</td>\n",
              "      <td>2021-04-06 21:00:00</td>\n",
              "      <td>2021-04-09 17:17:49</td>\n",
              "      <td>8</td>\n",
              "      <td>42559086985346</td>\n",
              "      <td>group/42559086985346/topic/152651712709506</td>\n",
              "      <td>682149</td>\n",
              "      <td>1</td>\n",
              "      <td>0</td>\n",
              "      <td>0</td>\n",
              "    </tr>\n",
              "    <tr>\n",
              "      <th>4</th>\n",
              "      <td>&lt;div data-tid=\"152651712709506\" data-l=\"ti,152...</td>\n",
              "      <td>1</td>\n",
              "      <td>0</td>\n",
              "      <td>https://ok.ru/group/42559086985346/topic/15265...</td>\n",
              "      <td>23</td>\n",
              "      <td>3</td>\n",
              "      <td>0</td>\n",
              "      <td>-1</td>\n",
              "      <td>0</td>\n",
              "      <td>2021-04-06 21:00:00</td>\n",
              "      <td>2021-04-10 06:12:21</td>\n",
              "      <td>10</td>\n",
              "      <td>42559086985346</td>\n",
              "      <td>group/42559086985346/topic/152651712709506</td>\n",
              "      <td>682149</td>\n",
              "      <td>1</td>\n",
              "      <td>0</td>\n",
              "      <td>0</td>\n",
              "    </tr>\n",
              "  </tbody>\n",
              "</table>\n",
              "</div>"
            ],
            "text/plain": [
              "                                                text  has_images  ...  telegram vk\n",
              "0  <div data-tid=\"152651712709506\" data-l=\"ti,152...           1  ...         0  0\n",
              "1  <div data-tid=\"152651712709506\" data-l=\"ti,152...           1  ...         0  0\n",
              "2  <div data-tid=\"152651712709506\" data-l=\"ti,152...           1  ...         0  0\n",
              "3  <div data-tid=\"152651712709506\" data-l=\"ti,152...           1  ...         0  0\n",
              "4  <div data-tid=\"152651712709506\" data-l=\"ti,152...           1  ...         0  0\n",
              "\n",
              "[5 rows x 18 columns]"
            ]
          },
          "metadata": {
            "tags": []
          },
          "execution_count": 9
        }
      ]
    },
    {
      "cell_type": "code",
      "metadata": {
        "id": "Gdz0C_HrXZvq"
      },
      "source": [
        "data_frame['created_date'] = pd.to_datetime(data_frame.created_date)\n",
        "data_frame['updated_date'] = pd.to_datetime(data_frame.updated_date)"
      ],
      "execution_count": 10,
      "outputs": []
    },
    {
      "cell_type": "code",
      "metadata": {
        "id": "41RT5-WbmwmM"
      },
      "source": [
        "col_data = ['has_images', 'has_videos', 'author_subscribers', 'lenght', 'odnoklassniki', 'telegram', 'vk']\n",
        "target_col = ['likes', 'comments', 'reposts', 'views']"
      ],
      "execution_count": 11,
      "outputs": []
    },
    {
      "cell_type": "code",
      "metadata": {
        "id": "O4fZgvIh9cyV"
      },
      "source": [
        "# preprocessing function for text from odnoklassniki\n",
        "def html2text(text):\n",
        "    text = re.sub(r'[^а-яА-Я.,:?!]', ' ', ''.join(re.split(r'<[^<>]+>', str(text))))\n",
        "    text = ' '.join(text.split())\n",
        "    return text"
      ],
      "execution_count": 12,
      "outputs": []
    },
    {
      "cell_type": "code",
      "metadata": {
        "id": "iyV7a9aJScAc"
      },
      "source": [
        "data_frame['text'] = data_frame.text.apply(html2text)"
      ],
      "execution_count": 13,
      "outputs": []
    },
    {
      "cell_type": "code",
      "metadata": {
        "id": "Sxd_MEB3dkon"
      },
      "source": [
        "# create new feature\n",
        "data_frame['lenght'] = data_frame.text.apply(len)"
      ],
      "execution_count": 14,
      "outputs": []
    },
    {
      "cell_type": "code",
      "metadata": {
        "id": "zpo6I8n1Wx6b"
      },
      "source": [
        "statistic = data_frame.groupby(by='id').agg({'has_images':'max',\n",
        "                                             'has_videos':'max'})"
      ],
      "execution_count": 15,
      "outputs": []
    },
    {
      "cell_type": "code",
      "metadata": {
        "colab": {
          "base_uri": "https://localhost:8080/",
          "height": 335
        },
        "id": "Rqs5EchQWGZK",
        "outputId": "31ef014e-7401-4263-f25f-7c1a4b3cbd06"
      },
      "source": [
        "plt.figure(figsize=(15, 5))\n",
        "plt.subplot(1, 2, 1)\n",
        "sns.histplot(data=statistic, x='has_images')\n",
        "plt.subplot(1, 2, 2)\n",
        "sns.histplot(data=statistic, x='has_videos')\n",
        "plt.show()"
      ],
      "execution_count": 16,
      "outputs": [
        {
          "output_type": "display_data",
          "data": {
            "image/png": "[encoded data removed]",
            "text/plain": [
              "<Figure size 1080x360 with 2 Axes>"
            ]
          },
          "metadata": {
            "tags": []
          }
        }
      ]
    },
    {
      "cell_type": "code",
      "metadata": {
        "colab": {
          "base_uri": "https://localhost:8080/",
          "height": 877
        },
        "id": "IzJp37eqUKTv",
        "outputId": "753f8dde-3dd6-499c-f5b3-8d7f1cb2b076"
      },
      "source": [
        "# likes comments reposts views\n",
        "plt.figure(figsize=(15, 15))\n",
        "for i, param in enumerate(['likes', 'comments', 'reposts', 'views'], 1):\n",
        "    statistic = data_frame[data_frame[param] != -1].groupby(by='id').agg({param:'max'})\n",
        "    plt.subplot(2, 2, i)\n",
        "    sns.kdeplot(data=statistic, x=param)\n",
        "plt.show()"
      ],
      "execution_count": 17,
      "outputs": [
        {
          "output_type": "display_data",
          "data": {
            "image/png": "[encoded data removed]",
            "text/plain": [
              "<Figure size 1080x1080 with 4 Axes>"
            ]
          },
          "metadata": {
            "tags": []
          }
        }
      ]
    },
    {
      "cell_type": "markdown",
      "metadata": {
        "id": "dw05rnIcmUSC"
      },
      "source": [
        "#### 'likes' 'comments' 'reposts' 'views' явно распределены в соответствии с логнормальным з-ном распределения. \n",
        "### Отнормируем столбецы 'author_subscribers', 'lenght', которые будут входными данными модели, попробуем привести к нормальному распределению выходные значения"
      ]
    },
    {
      "cell_type": "code",
      "metadata": {
        "id": "SMBr30bUScFx"
      },
      "source": [
        "scaller_subscribers = StandardScaler()\n",
        "data_frame[['author_subscribers', 'lenght']] = scaller_subscribers.fit_transform(data_frame[['author_subscribers', 'lenght']])"
      ],
      "execution_count": 18,
      "outputs": []
    },
    {
      "cell_type": "code",
      "metadata": {
        "id": "qhhsma9wrRiU"
      },
      "source": [
        "target_transformed = pd.DataFrame(data=np.hstack((np.log(data_frame[target_col] + 1e-5), data_frame.id[:, np.newaxis])), columns=target_col + ['id'])"
      ],
      "execution_count": 19,
      "outputs": []
    },
    {
      "cell_type": "code",
      "metadata": {
        "colab": {
          "base_uri": "https://localhost:8080/",
          "height": 877
        },
        "id": "FYvp03jrrRlh",
        "outputId": "caa191fc-152f-4580-fe52-01ac82e3f38c"
      },
      "source": [
        "# likes comments reposts views\n",
        "plt.figure(figsize=(15, 15))\n",
        "for i, param in enumerate(['likes', 'comments', 'reposts', 'views'], 1):\n",
        "    statistic = target_transformed[data_frame[param] != -1].groupby(by='id').agg({param:'max'})\n",
        "    plt.subplot(2, 2, i)\n",
        "    sns.histplot(data=statistic, x=param, bins=25)\n",
        "plt.show()"
      ],
      "execution_count": 20,
      "outputs": [
        {
          "output_type": "display_data",
          "data": {
            "image/png": "[encoded data removed]",
            "text/plain": [
              "<Figure size 1080x1080 with 4 Axes>"
            ]
          },
          "metadata": {
            "tags": []
          }
        }
      ]
    },
    {
      "cell_type": "markdown",
      "metadata": {
        "id": "cqDlvb2Bvhtl"
      },
      "source": [
        "#### Какие выводы можно сделать на основе данных:\n",
        "1. В данных много примеров с 0, которые и создают на этапе первого просмотра график похожий на логнормальное распределение;\n",
        "2. Все параметры имеют явно отделимую часть - 0-ые значения на графике;\n",
        "3. Ненулевые значения 'likes' имеют логнормальное распределение;\n",
        "3. Ненулевые 'comments' и 'reposts' исходя из полученного разбиения на ячейки гистограммы рапределены экспоненциально;\n",
        "4. Ненулевые просмотры нормально распределены.\n"
      ]
    },
    {
      "cell_type": "markdown",
      "metadata": {
        "id": "DyP9LrS806We"
      },
      "source": [
        "### Поэтому к целевым переменным добавим новые значеня, которые будут иметь бинарные значения 'likes_is_0' 'comments_is_0' 'reposts_is_0' 'views_is_0', так что помимо регрессии будет решаться задача классификации"
      ]
    },
    {
      "cell_type": "code",
      "metadata": {
        "id": "KRB16DCjAKqS"
      },
      "source": [
        "scaller_output = StandardScaler()\n",
        "data_frame[target_col] = scaller_output.fit_transform(data_frame[target_col])"
      ],
      "execution_count": 21,
      "outputs": []
    },
    {
      "cell_type": "code",
      "metadata": {
        "id": "3OpJj1Yd05ie"
      },
      "source": [
        "for col in target_col:\n",
        "    data_frame[col+'_is_0'] = (data_frame[col] == 0).astype(np.int8)"
      ],
      "execution_count": 22,
      "outputs": []
    },
    {
      "cell_type": "code",
      "metadata": {
        "id": "eQztv3-u35XP"
      },
      "source": [
        "target_col = target_col + ['likes_is_0', 'comments_is_0', 'reposts_is_0', 'views_is_0']"
      ],
      "execution_count": 23,
      "outputs": []
    },
    {
      "cell_type": "markdown",
      "metadata": {
        "id": "BF7qlWb74aZX"
      },
      "source": [
        "### Разделение даных на обучающую и тестовую выборку"
      ]
    },
    {
      "cell_type": "code",
      "metadata": {
        "id": "vV5QzDRqrRrE"
      },
      "source": [
        "data_for_split = data_frame.groupby(by=['author_id', 'id'], as_index=False).agg({'likes':'max', 'comments':'max', 'reposts':'max', 'views':'max', 'url':'count'})\n",
        "data_for_split = data_for_split[data_for_split.url > 6]"
      ],
      "execution_count": 24,
      "outputs": []
    },
    {
      "cell_type": "code",
      "metadata": {
        "id": "zLZvV8QE5-0r"
      },
      "source": [
        "def split_data(data, test_size, stratify):\n",
        "    index = np.zeros(data.shape[0], dtype=np.bool)\n",
        "    stratify = stratify.to_numpy()\n",
        "    for i in range(index.shape[0]):\n",
        "        if np.sum(np.all(stratify == stratify[i], axis=1)) > 1:\n",
        "            index[i] = True\n",
        "    not_frequent_data = data[~index]\n",
        "    train, test = train_test_split(data[index], test_size=test_size, stratify=stratify[index])\n",
        "    return pd.concat((not_frequent_data, train)), test"
      ],
      "execution_count": 25,
      "outputs": []
    },
    {
      "cell_type": "code",
      "metadata": {
        "id": "r1q1ZLL462hi"
      },
      "source": [
        "train, test = split_data(data_for_split, test_size=0.1, stratify=data_for_split[['likes', 'comments', 'reposts', 'views']])"
      ],
      "execution_count": 26,
      "outputs": []
    },
    {
      "cell_type": "code",
      "metadata": {
        "colab": {
          "base_uri": "https://localhost:8080/"
        },
        "id": "AZxjGqLOFoy7",
        "outputId": "980e4bdc-881e-4e9f-dc5b-d57946ff38d7"
      },
      "source": [
        "print('Train shape:', train.shape[0],\n",
        "      '\\nTest shape: ', test.shape[0])"
      ],
      "execution_count": 27,
      "outputs": [
        {
          "output_type": "stream",
          "text": [
            "Train shape: 10703 \n",
            "Test shape:  1090\n"
          ],
          "name": "stdout"
        }
      ]
    },
    {
      "cell_type": "code",
      "metadata": {
        "id": "q1InADgf5xm2",
        "colab": {
          "base_uri": "https://localhost:8080/",
          "height": 257,
          "referenced_widgets": [
            "f6637036733d4965b596d99d511c9095",
            "2f73175c5f944afbbd4bcd2dc871c93e",
            "384f96ff41ff4fae915b062757fa0704",
            "2d18cc388cf14d88a7deb25126fa54f0",
            "1a2d3e35c254411a9c8547e24d69e199",
            "cf41c2c5f10b437abc577b33b27cbdfe",
            "2abe8c0973b24a598013c086c5de6126",
            "42f4105c8c044c6288fd57aed414c585",
            "0370afa0fe1f4b5fab56282d407fd79a",
            "82f869a8e69349a1a8a0c2b59bc62d01",
            "f2f75936274e44d8a4f0a219533f9b8b",
            "cf14d385e9e9409db4e57405efea24c6",
            "a8a74970e3c04848a89b9b708178d102",
            "d65ecf8d76ef4b47918d638583d8de74",
            "9da8145551cb48ee87d06bd173eed1ea",
            "f8500c7c88ff4ff8952a1d82e2b6776f",
            "26a0ac01e76e4f21815b4abb4ae65c03",
            "687207818c2649858124aeed2877b3bc",
            "f5cad38ce6904ee28a2e8eae8edd35ce",
            "057c187983d441d883df40f2ca69bc04",
            "d58c1dc4cff74f2b810b63417bc106c4",
            "1bea4bf9b74748cebbe22cbae79a1ae0",
            "574938f06c904c768f119f53d439f1ea",
            "be6751aef2db4bb4aa54d6c75c1a9552",
            "aa987183464d4852bc69120687f5c67c",
            "0799fec885904f1b84e8b94bbf7a2200",
            "b3e6fea9553f406db5c156c2f6e69695",
            "01a673ae2a8f4cc5beb57691aed86c59",
            "056b8a3a8df946d780d92a6cc7f0b7aa",
            "03fa8c669bbe4226b8ddd41bfc1d258c",
            "d4718547fabd433681080cb237aba587",
            "31f6391c4f554a8c9a42f32f048c6cce",
            "ed071661187c480d8ba56e47c27f6e91",
            "e79cb44b2109449bb720435faa6bd9e2",
            "b744d7a476334aceadd771f5bed415a3",
            "5172d1c7074e448397655ebc664cc85b",
            "4cea087cb9c241e69a16071feb1985c8",
            "8b56adf36ae041379efeac8c70ad54bb",
            "614b9c988cc94888a6a1e59b4ac80ee2",
            "13518cf1dbb44648a56b61c8b50c06c3"
          ]
        },
        "outputId": "3144f19c-deef-474d-8770-e55f606a2355"
      },
      "source": [
        "model_class, tokenizer_class, pretrained_weights = DistilBertModel, DistilBertTokenizer, 'distilbert-base-uncased'\n",
        "tokenizer = tokenizer_class.from_pretrained(pretrained_weights)\n",
        "bert = model_class.from_pretrained(pretrained_weights)"
      ],
      "execution_count": 28,
      "outputs": [
        {
          "output_type": "display_data",
          "data": {
            "application/vnd.jupyter.widget-view+json": {
              "model_id": "f6637036733d4965b596d99d511c9095",
              "version_minor": 0,
              "version_major": 2
            },
            "text/plain": [
              "HBox(children=(FloatProgress(value=0.0, description='Downloading', max=231508.0, style=ProgressStyle(descripti…"
            ]
          },
          "metadata": {
            "tags": []
          }
        },
        {
          "output_type": "stream",
          "text": [
            "\n"
          ],
          "name": "stdout"
        },
        {
          "output_type": "display_data",
          "data": {
            "application/vnd.jupyter.widget-view+json": {
              "model_id": "0370afa0fe1f4b5fab56282d407fd79a",
              "version_minor": 0,
              "version_major": 2
            },
            "text/plain": [
              "HBox(children=(FloatProgress(value=0.0, description='Downloading', max=28.0, style=ProgressStyle(description_w…"
            ]
          },
          "metadata": {
            "tags": []
          }
        },
        {
          "output_type": "stream",
          "text": [
            "\n"
          ],
          "name": "stdout"
        },
        {
          "output_type": "display_data",
          "data": {
            "application/vnd.jupyter.widget-view+json": {
              "model_id": "26a0ac01e76e4f21815b4abb4ae65c03",
              "version_minor": 0,
              "version_major": 2
            },
            "text/plain": [
              "HBox(children=(FloatProgress(value=0.0, description='Downloading', max=466062.0, style=ProgressStyle(descripti…"
            ]
          },
          "metadata": {
            "tags": []
          }
        },
        {
          "output_type": "stream",
          "text": [
            "\n"
          ],
          "name": "stdout"
        },
        {
          "output_type": "display_data",
          "data": {
            "application/vnd.jupyter.widget-view+json": {
              "model_id": "aa987183464d4852bc69120687f5c67c",
              "version_minor": 0,
              "version_major": 2
            },
            "text/plain": [
              "HBox(children=(FloatProgress(value=0.0, description='Downloading', max=442.0, style=ProgressStyle(description_…"
            ]
          },
          "metadata": {
            "tags": []
          }
        },
        {
          "output_type": "stream",
          "text": [
            "\n"
          ],
          "name": "stdout"
        },
        {
          "output_type": "display_data",
          "data": {
            "application/vnd.jupyter.widget-view+json": {
              "model_id": "ed071661187c480d8ba56e47c27f6e91",
              "version_minor": 0,
              "version_major": 2
            },
            "text/plain": [
              "HBox(children=(FloatProgress(value=0.0, description='Downloading', max=267967963.0, style=ProgressStyle(descri…"
            ]
          },
          "metadata": {
            "tags": []
          }
        },
        {
          "output_type": "stream",
          "text": [
            "\n"
          ],
          "name": "stdout"
        }
      ]
    },
    {
      "cell_type": "code",
      "metadata": {
        "id": "QwEK8fO3t4ft"
      },
      "source": [
        "def return_one(x):\n",
        "    return x.iloc[0]"
      ],
      "execution_count": 29,
      "outputs": []
    },
    {
      "cell_type": "code",
      "metadata": {
        "id": "pJby0YDqukpG"
      },
      "source": [
        "def return_ndarray(x):\n",
        "    try:\n",
        "        return x.to_list()\n",
        "    except:\n",
        "        print(x)"
      ],
      "execution_count": 30,
      "outputs": []
    },
    {
      "cell_type": "code",
      "metadata": {
        "colab": {
          "base_uri": "https://localhost:8080/"
        },
        "id": "MeU0t-V_iFIT",
        "outputId": "17ccc9b6-65d6-43d0-de33-3de2a1a41ac6"
      },
      "source": [
        "def create_data_for_dataset(csv):\n",
        "    data = csv.groupby(by=['id', 'author_id'], as_index=False)\n",
        "    data = data.agg({'text':return_one,\n",
        "                          'author_subscribers': return_one,\n",
        "                          'has_images': return_one,\n",
        "                          'has_videos': return_one,\n",
        "                          'lenght': return_one,\n",
        "                          'odnoklassniki': return_one,\n",
        "                          'telegram': return_one,\n",
        "                          'vk': return_one,\n",
        "                          'comments': return_ndarray,\n",
        "                          'comments_is_0': return_ndarray,\n",
        "                          'likes': return_ndarray,\n",
        "                          'likes_is_0': return_ndarray,\n",
        "                          'reposts': return_ndarray,\n",
        "                          'reposts_is_0': return_ndarray,\n",
        "                          'views': return_ndarray,\n",
        "                          'views_is_0': return_ndarray})\n",
        "    return data\n",
        "\n",
        "class PostsDataset(Dataset):\n",
        "    def __init__(self, data, tokenizer, id, max_size=200):\n",
        "        self.max_size = max_size\n",
        "        self.data = data.merge(id,how='right')\n",
        "        self.data['text'] = data.text.apply(lambda x:tokenizer.encode(x, add_special_tokens=True))\n",
        "        \n",
        "    def __getitem__(self, idx):\n",
        "        return {'text': self.data.iloc[idx, 2][:self.max_size],\n",
        "                'data': self.data.iloc[idx, 3:10],\n",
        "                'target': np.array(self.data.iloc[idx, 10:].to_list())[:, :7]}\n",
        "\n",
        "    def __len__(self):\n",
        "        return len(self.data)\n",
        "\n",
        "d = create_data_for_dataset(data_frame)\n",
        "\n",
        "train_dataset = PostsDataset(d, tokenizer, train[['id', 'author_id']], max_size=100)\n",
        "test_dataset = PostsDataset(d, tokenizer, test[['id', 'author_id']], max_size=100)"
      ],
      "execution_count": 31,
      "outputs": [
        {
          "output_type": "stream",
          "text": [
            "Token indices sequence length is longer than the specified maximum sequence length for this model (567 > 512). Running this sequence through the model will result in indexing errors\n"
          ],
          "name": "stderr"
        }
      ]
    },
    {
      "cell_type": "code",
      "metadata": {
        "id": "E3aM7LgiLLny"
      },
      "source": [
        "def get_padded(values):\n",
        "    max_len = 0\n",
        "    for value in values:\n",
        "        if len(value) > max_len:\n",
        "            max_len = len(value)\n",
        "\n",
        "    padded = np.array([value + [0]*(max_len-len(value)) for value in values])\n",
        "\n",
        "    return padded\n",
        "\n",
        "def collate_fn(batch):\n",
        "\n",
        "    inputs = []\n",
        "    labels = []\n",
        "    data = []\n",
        "    for elem in batch:\n",
        "        inputs.append(elem['text'])\n",
        "        labels.append(elem['target'])\n",
        "        data.append(elem['data'])\n",
        "\n",
        "    inputs = get_padded(inputs) # padded inputs\n",
        "    attention_mask = np.where(inputs != 0, 1, 0)\n",
        "    return {\"inputs\": torch.tensor(inputs), \"labels\": torch.FloatTensor(labels), 'attention_mask' : torch.tensor(attention_mask), 'data':torch.FloatTensor(data)}\n",
        "\n",
        "train_loader = DataLoader(train_dataset, batch_size=100, collate_fn=collate_fn)\n",
        "test_loader = DataLoader(test_dataset, batch_size=100, collate_fn=collate_fn)"
      ],
      "execution_count": 32,
      "outputs": []
    },
    {
      "cell_type": "code",
      "metadata": {
        "id": "wRVFbZUaePT0"
      },
      "source": [
        "device = torch.device('cuda' if torch.cuda.is_available() else 'cpu')"
      ],
      "execution_count": 33,
      "outputs": []
    },
    {
      "cell_type": "code",
      "metadata": {
        "id": "Fi2DvdM-OIwy"
      },
      "source": [
        "class Monster(nn.Module):\n",
        "    def __init__(self, emb_dim=50, dropout=0.5):\n",
        "        super().__init__()\n",
        "        self.bert = bert\n",
        "        self.emb = nn.Embedding(num_embeddings=8, embedding_dim=emb_dim)\n",
        "        self.rnn = nn.LSTM(input_size=emb_dim, hidden_size=768, dropout=dropout)\n",
        "        self.regressor = nn.Sequential(\n",
        "            nn.Linear(768 * 2 + 7, 300),\n",
        "            nn.Dropout(p=dropout),\n",
        "            nn.ReLU(inplace=False),\n",
        "            nn.Linear(300, 8)\n",
        "        )\n",
        "        self.activ = nn.Sigmoid()\n",
        "\n",
        "    def forward(self, x, atten, data):\n",
        "        with torch.autograd.set_detect_anomaly(True):\n",
        "            x = self.bert(x, atten)['last_hidden_state'][:, 0, :]\n",
        "            positions = [self.emb((i * torch.ones((1, x.size(0)), dtype=torch.long)).to(device)) for i in range(1, 8)]\n",
        "            c = torch.zeros((1, x.size(0), 768)).to(device)\n",
        "            h = x.unsqueeze(0).contiguous()\n",
        "            outputs = []\n",
        "            for i in range(7):\n",
        "                # print(positions[i].shape, h.shape, c.shape)\n",
        "                output, (h, c) = self.rnn(positions[i], (h, c))\n",
        "                output, hidden = output.squeeze(), h.squeeze()\n",
        "                # print(output.shape, hidden.shape, c.shape)\n",
        "                input = torch.cat((output, hidden, data), dim=1)\n",
        "                # print(input.shape, data.shape)\n",
        "                out = self.regressor(input)\n",
        "                out[:, 1::2] = self.activ(out[:, 1::2])\n",
        "                out[:, ::2] = out[:, ::2] * (1 - out[:, 1::2].detach())\n",
        "                outputs.append(out.unsqueeze(2))\n",
        "\n",
        "        return torch.cat(outputs, dim=2)"
      ],
      "execution_count": 34,
      "outputs": []
    },
    {
      "cell_type": "code",
      "metadata": {
        "id": "b7siIMDSdw2K"
      },
      "source": [
        "model = Monster().to(device)"
      ],
      "execution_count": 35,
      "outputs": []
    },
    {
      "cell_type": "markdown",
      "metadata": {
        "id": "TAUKV_mZtDyq"
      },
      "source": [
        "### Обучение"
      ]
    },
    {
      "cell_type": "code",
      "metadata": {
        "id": "_kX8040MqyOd"
      },
      "source": [
        "def train_epoch(model, loader, optimizer, criterion):\n",
        "    model.train()\n",
        "\n",
        "    epoch_loss = 0\n",
        "\n",
        "    with torch.set_grad_enabled(True):\n",
        "        for batch in loader:\n",
        "            inputs = batch['inputs'].to(device)\n",
        "            labels = batch['labels'].to(device)\n",
        "            attention_mask = batch['attention_mask'].to(device)\n",
        "            data = batch['data'].to(device)\n",
        "\n",
        "            optimizer.zero_grad()\n",
        "\n",
        "            output = model(inputs, attention_mask, data)\n",
        "\n",
        "            loss = criterion(output, labels)\n",
        "            loss.backward()\n",
        "            optimizer.step()\n",
        "\n",
        "            epoch_loss += loss.item() * data.size(0)\n",
        "\n",
        "    avg_loss = epoch_loss / len(loader)\n",
        "    print('Train Loss:', avg_loss)\n",
        "    return model, avg_loss\n",
        "\n",
        "def validation_epoch(model, loader, criterion):\n",
        "    model.eval()\n",
        "\n",
        "    epoch_loss = 0\n",
        "    \n",
        "    with torch.no_grad():\n",
        "        for batch in loader:\n",
        "            inputs = batch['inputs'].to(device)\n",
        "            labels = batch['labels'].to(device)\n",
        "            attention_mask = batch['attention_mask'].to(device)\n",
        "            data = batch['data'].to(device)\n",
        "\n",
        "            output = model(inputs, attention_mask, data)\n",
        "\n",
        "            loss = criterion(output, labels)\n",
        "\n",
        "            epoch_loss += loss.item() * data.size(0)\n",
        "\n",
        "    avg_loss = epoch_loss / len(loader)\n",
        "    print('Val Loss:', avg_loss)\n",
        "    return avg_loss"
      ],
      "execution_count": 36,
      "outputs": []
    },
    {
      "cell_type": "code",
      "metadata": {
        "id": "Nca7FKwKvBfQ"
      },
      "source": [
        "loader = {'train':train_loader,\n",
        "          'val':test_loader}"
      ],
      "execution_count": 37,
      "outputs": []
    },
    {
      "cell_type": "code",
      "metadata": {
        "id": "JttHY47RGHTJ"
      },
      "source": [
        "def train_model(model, loader, n_epoch, max_iter_grow_val_loss=3):\n",
        "    min_loss = np.inf\n",
        "    history = {\n",
        "        'train':[],\n",
        "        'val':[]\n",
        "    }\n",
        "    criterion = nn.MSELoss()\n",
        "    finetunning_parametres = list(model.parameters())\n",
        "    c = 0\n",
        "\n",
        "    for i in range(n_epoch):\n",
        "        print('Epoch ', i + 1)\n",
        "        if i < 15:\n",
        "            optimizer = optim.Adam(finetunning_parametres[100:], lr=3e-4)\n",
        "        else:\n",
        "            optimizer = optim.Adam(finetunning_parametres, lr=3e-4)\n",
        "        model, train_loss = train_epoch(model, loader['train'], optimizer, criterion)\n",
        "        history['train'].append(train_loss)\n",
        "        val_loss = validation_epoch(model, loader['val'], criterion)\n",
        "        history['val'].append(val_loss)\n",
        "        if min_loss > val_loss:\n",
        "            min_loss = val_loss\n",
        "            best_model = model.state_dict()\n",
        "        else:\n",
        "            c += 1\n",
        "        if c == max_iter_grow_val_loss:\n",
        "            model.load_state_dict(best_model)\n",
        "            break\n",
        "\n",
        "    return model, history"
      ],
      "execution_count": 38,
      "outputs": []
    },
    {
      "cell_type": "code",
      "metadata": {
        "colab": {
          "base_uri": "https://localhost:8080/"
        },
        "id": "O0u3LFxOvLPp",
        "outputId": "de9c408f-8572-425b-9aff-d3c3ccd920fb"
      },
      "source": [
        "model, history = train_model(model, loader, 30)"
      ],
      "execution_count": 39,
      "outputs": [
        {
          "output_type": "stream",
          "text": [
            "Epoch  1\n",
            "Train Loss: 20.20643442027978\n",
            "Val Loss: 0.6053762692450122\n",
            "Epoch  2\n",
            "Train Loss: 17.60399883927743\n",
            "Val Loss: 0.5136205040087755\n",
            "Epoch  3\n",
            "Train Loss: 16.97914154098274\n",
            "Val Loss: 0.4490516952831637\n",
            "Epoch  4\n",
            "Train Loss: 16.47428077905163\n",
            "Val Loss: 0.41329225567592814\n",
            "Epoch  5\n",
            "Train Loss: 16.12363917663633\n",
            "Val Loss: 0.385029576507143\n",
            "Epoch  6\n",
            "Train Loss: 15.758847338324241\n",
            "Val Loss: 0.37238398799672723\n",
            "Epoch  7\n",
            "Train Loss: 15.471119035382461\n",
            "Val Loss: 0.356741784860126\n",
            "Epoch  8\n",
            "Train Loss: 15.220409016826629\n",
            "Val Loss: 0.3418220861137591\n",
            "Epoch  9\n",
            "Train Loss: 14.993393592698137\n",
            "Val Loss: 0.3272286332635717\n",
            "Epoch  10\n",
            "Train Loss: 14.75401304055359\n",
            "Val Loss: 0.31571689231151884\n",
            "Epoch  11\n",
            "Train Loss: 14.486965171544364\n",
            "Val Loss: 0.294259607961232\n",
            "Epoch  12\n",
            "Train Loss: 14.299702620767574\n",
            "Val Loss: 0.2858095825649798\n",
            "Epoch  13\n",
            "Train Loss: 14.077313897868239\n",
            "Val Loss: 0.26853869669139385\n",
            "Epoch  14\n",
            "Train Loss: 13.855157443818085\n",
            "Val Loss: 0.255552742164582\n",
            "Epoch  15\n",
            "Train Loss: 13.68679957656207\n",
            "Val Loss: 0.24815394839441235\n",
            "Epoch  16\n",
            "Train Loss: 13.323981993747616\n",
            "Val Loss: 0.2374754128554328\n",
            "Epoch  17\n",
            "Train Loss: 13.329227538098133\n",
            "Val Loss: 0.23229816494594244\n",
            "Epoch  18\n",
            "Train Loss: 12.9993783120482\n",
            "Val Loss: 0.21089706178331238\n",
            "Epoch  19\n",
            "Train Loss: 13.08184712087839\n",
            "Val Loss: 0.2082782743541016\n",
            "Epoch  20\n",
            "Train Loss: 12.727768759700227\n",
            "Val Loss: 0.20001059980131686\n",
            "Epoch  21\n",
            "Train Loss: 12.610538785964579\n",
            "Val Loss: 0.1920366952915422\n",
            "Epoch  22\n",
            "Train Loss: 12.634553183478097\n",
            "Val Loss: 0.20591115547259423\n",
            "Epoch  23\n",
            "Train Loss: 12.882290174628402\n",
            "Val Loss: 0.20135516618293794\n",
            "Epoch  24\n",
            "Train Loss: 12.771674854129001\n",
            "Val Loss: 0.194988020547581\n"
          ],
          "name": "stdout"
        }
      ]
    },
    {
      "cell_type": "code",
      "metadata": {
        "id": "PUQEeQjYJ70o"
      },
      "source": [
        "weight = np.array([0.3, 0.3, 0.3, 0.1])\n",
        "weight = weight.reshape((4, 1))"
      ],
      "execution_count": 40,
      "outputs": []
    },
    {
      "cell_type": "code",
      "metadata": {
        "id": "DgNOvqRbHoqC"
      },
      "source": [
        "def eval(model, loader, scaller):\n",
        "    diff = 0\n",
        "    count = 0\n",
        "    with torch.no_grad():\n",
        "        for batch in loader:\n",
        "            inputs = batch['inputs'].to(device)\n",
        "            labels = batch['labels']\n",
        "            attention_mask = batch['attention_mask'].to(device)\n",
        "            data = batch['data'].to(device)\n",
        "            output = model(inputs, attention_mask, data)\n",
        "            count += output.size(0)\n",
        "            output = output.to('cpu')\n",
        "            output_numpy = output.detach().numpy()\n",
        "            labels_numpy = labels.detach().numpy()        \n",
        "            for i in range(output.shape[0]):\n",
        "                lab = np.squeeze(scaller.inverse_transform(labels_numpy[i, 1::2, :].T)).T\n",
        "                out = np.squeeze(scaller.inverse_transform(output_numpy[i, 1::2, :].T)).T\n",
        "                output_inverse = np.sum(lab * weight, axis=0) / out.mean(axis=0)\n",
        "                labels_inverse = np.sum(lab * weight, axis=0) / lab.mean(axis=0)\n",
        "                diff += np.sum(np.abs(output_inverse  - labels_inverse))\n",
        "    return diff / count, out, lab"
      ],
      "execution_count": 41,
      "outputs": []
    },
    {
      "cell_type": "code",
      "metadata": {
        "id": "cUL221z8IT9Q"
      },
      "source": [
        "metric, pred_label, true_label = eval(model, test_loader, scaller_output)"
      ],
      "execution_count": 42,
      "outputs": []
    },
    {
      "cell_type": "code",
      "metadata": {
        "colab": {
          "base_uri": "https://localhost:8080/"
        },
        "id": "zGyqX1pWEpfP",
        "outputId": "168be4b8-f7a3-40ad-e034-533c4bb46f01"
      },
      "source": [
        "print(metric)"
      ],
      "execution_count": 43,
      "outputs": [
        {
          "output_type": "stream",
          "text": [
            "0.0024817806955958173\n"
          ],
          "name": "stdout"
        }
      ]
    },
    {
      "cell_type": "code",
      "metadata": {
        "colab": {
          "base_uri": "https://localhost:8080/"
        },
        "id": "t2sBAfqJGm4y",
        "outputId": "59c0eb95-2941-469c-b9bf-9229ae466ea7"
      },
      "source": [
        "print(pred_label.astype(np.float))"
      ],
      "execution_count": 44,
      "outputs": [
        {
          "output_type": "stream",
          "text": [
            "[[ 4.93682766e+00  4.89639425e+00  4.89549828e+00  4.89351749e+00\n",
            "   4.89329052e+00  4.89325809e+00  4.89335060e+00]\n",
            " [-9.55959875e-03 -1.36737349e-02 -1.37531022e-02 -1.39310509e-02\n",
            "  -1.39519051e-02 -1.39549254e-02 -1.39465528e-02]\n",
            " [ 1.23047024e-01  1.19677946e-01  1.19598374e-01  1.19432487e-01\n",
            "   1.19412750e-01  1.19409919e-01  1.19417891e-01]\n",
            " [ 1.89285107e+03  1.88938171e+03  1.88930054e+03  1.88913464e+03\n",
            "   1.88911597e+03  1.88911340e+03  1.88912085e+03]]\n"
          ],
          "name": "stdout"
        }
      ]
    },
    {
      "cell_type": "code",
      "metadata": {
        "colab": {
          "base_uri": "https://localhost:8080/"
        },
        "id": "a5sNVyDBGptz",
        "outputId": "0bfa781a-b173-4788-fe3a-0a04eaf375d7"
      },
      "source": [
        "print(true_label.astype(np.float))"
      ],
      "execution_count": 45,
      "outputs": [
        {
          "output_type": "stream",
          "text": [
            "[[ 4.89323187e+00  4.89323187e+00  4.89323187e+00  4.89323187e+00\n",
            "   4.89323187e+00  4.89323187e+00  4.89323187e+00]\n",
            " [-1.39573673e-02 -1.39573673e-02 -1.39573673e-02 -1.39573673e-02\n",
            "  -1.39573673e-02 -1.39573673e-02 -1.39573673e-02]\n",
            " [ 1.19407617e-01  1.19407617e-01  1.19407617e-01  1.19407617e-01\n",
            "   1.19407617e-01  1.19407617e-01  1.19407617e-01]\n",
            " [ 1.88911133e+03  1.88911133e+03  1.88911133e+03  1.88911133e+03\n",
            "   1.88911133e+03  1.88911133e+03  1.88911133e+03]]\n"
          ],
          "name": "stdout"
        }
      ]
    },
    {
      "cell_type": "code",
      "metadata": {
        "id": "9B2KSSYMGsNF"
      },
      "source": [
        ""
      ],
      "execution_count": null,
      "outputs": []
    }
  ]
}